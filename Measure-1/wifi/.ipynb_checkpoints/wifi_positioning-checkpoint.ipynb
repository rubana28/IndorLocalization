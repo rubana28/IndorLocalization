{
 "cells": [
  {
   "cell_type": "markdown",
   "metadata": {},
   "source": [
    "# Smartphone Wifi\n"
   ]
  },
  {
   "cell_type": "code",
   "execution_count": 69,
   "metadata": {},
   "outputs": [],
   "source": [
    "from sklearn.neighbors import KNeighborsClassifier\n",
    "from sklearn.model_selection import train_test_split\n",
    "import numpy as np  \n",
    "import matplotlib.pyplot as plt  \n",
    "import pandas as pd "
   ]
  },
  {
   "cell_type": "code",
   "execution_count": 70,
   "metadata": {},
   "outputs": [],
   "source": [
    "names=['rssi-1', 'rssi-2', 'rssi-3', 'rssi-4','rssi-5','rssi-6','rssi-7','rssi-8','rssi-9','rssi-10','rssi-11','rssi-12','rssi-13','rssi-14','rssi-15','rssi-16','rssi-17','rssi-18', 'rssi-19', 'rssi-20', 'rssi-21','rssi-22','rssi-23','rssi-24','rssi-25','rssi-26','rssi-27','rssi-28','rssi-29','rssi-30','rssi-31','rssi-32','rssi-33','rssi-34','rssi-35', 'rssi-36', 'rssi-37', 'rssi-38','rssi-39','rssi-40','rssi-41','rssi-42','rssi-43','rssi-44','rssi-45','rssi-46','rssi-47','rssi-48','rssi-49','rssi-50','rssi-51','rssi-52', 'rssi-53', 'rssi-54', 'rssi-55','rssi-56','rssi-57','rssi-58','rssi-59','rssi-60','rssi-61','rssi-62','rssi-63','rssi-64','rssi-65','rssi-66','rssi-67','rssi-68','rssi-69', 'rssi-70', 'rssi-71', 'rssi-72','rssi-73','rssi-74','rssi-75','rssi-76','rssi-77','rssi-78','rssi-79','rssi-80','rssi-81','rssi-82','rssi-83','rssi-84','rssi-85','rssi-86', 'rssi-87', 'rssi-88', 'rssi-89','rssi-90','rssi-91','rssi-92','rssi-93','rssi-94','rssi-95','rssi-96','rssi-97','rssi-98','rssi-99','rssi-100','rssi-101','rssi-102','rssi-103', 'rssi-104', 'rssi-105', 'rssi-106','rssi-107','rssi-108','rssi-109','rssi-110','rssi-111','rssi-112','rssi-113','rssi-114','rssi-115','rssi-116','rssi-117','rssi-118','rssi-119','rssi-120', 'rssi-121', 'rssi-122', 'rssi-123','rssi-124','rssi-125','rssi-126','rssi-127','zone']\n",
    "dataset = pd.read_csv('measure1_smartphone_wifi_all.csv', names=names) \n",
    "dataset = pd.read_csv('measure1_smartphone_wifi_all.csv', names=names) \n",
    "#dataset"
   ]
  },
  {
   "cell_type": "code",
   "execution_count": 71,
   "metadata": {},
   "outputs": [],
   "source": [
    "X = dataset.iloc[:, :-1].values  \n",
    "y = dataset.iloc[:, 127].values  "
   ]
  },
  {
   "cell_type": "code",
   "execution_count": 72,
   "metadata": {},
   "outputs": [],
   "source": [
    "from sklearn.model_selection import train_test_split  \n",
    "\n",
    "X_train, X_test, y_train, y_test = train_test_split(X, y, test_size=0.20) "
   ]
  },
  {
   "cell_type": "code",
   "execution_count": 73,
   "metadata": {},
   "outputs": [
    {
     "name": "stderr",
     "output_type": "stream",
     "text": [
      "C:\\Users\\ruban\\Anaconda3\\lib\\site-packages\\sklearn\\utils\\validation.py:475: DataConversionWarning: Data with input dtype int64 was converted to float64 by StandardScaler.\n",
      "  warnings.warn(msg, DataConversionWarning)\n"
     ]
    }
   ],
   "source": [
    "from sklearn.preprocessing import StandardScaler  \n",
    "scaler = StandardScaler()  \n",
    "scaler.fit(X_train)\n",
    "\n",
    "X_train = scaler.transform(X_train)  \n",
    "X_test = scaler.transform(X_test) "
   ]
  },
  {
   "cell_type": "code",
   "execution_count": 74,
   "metadata": {},
   "outputs": [
    {
     "data": {
      "text/plain": [
       "KNeighborsClassifier(algorithm='auto', leaf_size=30, metric='minkowski',\n",
       "           metric_params=None, n_jobs=1, n_neighbors=10, p=2,\n",
       "           weights='uniform')"
      ]
     },
     "execution_count": 74,
     "metadata": {},
     "output_type": "execute_result"
    }
   ],
   "source": [
    "from sklearn.neighbors import KNeighborsClassifier  \n",
    "\n",
    "classifier = KNeighborsClassifier(n_neighbors=10)  \n",
    "classifier.fit(X_train, y_train)"
   ]
  },
  {
   "cell_type": "code",
   "execution_count": 75,
   "metadata": {},
   "outputs": [],
   "source": [
    "y_pred = classifier.predict(X_test)"
   ]
  },
  {
   "cell_type": "code",
   "execution_count": 76,
   "metadata": {},
   "outputs": [
    {
     "name": "stdout",
     "output_type": "stream",
     "text": [
      "[[ 8  2  1  0  0  0]\n",
      " [ 0  2  0  0  0  0]\n",
      " [ 1  2 14  0  0  1]\n",
      " [ 4  5  2  1  0  0]\n",
      " [ 1  0  0  0  4  0]\n",
      " [ 0  0  1  0  0 16]]\n",
      "             precision    recall  f1-score   support\n",
      "\n",
      "  Corridor1       0.57      0.73      0.64        11\n",
      "  Corridor2       0.18      1.00      0.31         2\n",
      "  Corridor3       0.78      0.78      0.78        18\n",
      "       Hall       1.00      0.08      0.15        12\n",
      "    Office1       1.00      0.80      0.89         5\n",
      "    Office2       0.94      0.94      0.94        17\n",
      "\n",
      "avg / total       0.83      0.69      0.68        65\n",
      "\n"
     ]
    }
   ],
   "source": [
    "from sklearn.metrics import classification_report, confusion_matrix  \n",
    "\n",
    "print(confusion_matrix(y_test, y_pred))  \n",
    "print(classification_report(y_test, y_pred))  "
   ]
  },
  {
   "cell_type": "code",
   "execution_count": 77,
   "metadata": {},
   "outputs": [],
   "source": [
    "error = []\n",
    "\n",
    "# Calculating error for K values between 1 and 40\n",
    "for i in range(1, 40):  \n",
    "    knn = KNeighborsClassifier(n_neighbors=i)\n",
    "    knn.fit(X_train, y_train)\n",
    "    pred_i = knn.predict(X_test)\n",
    "    error.append(np.mean(pred_i != y_test))"
   ]
  },
  {
   "cell_type": "code",
   "execution_count": 78,
   "metadata": {},
   "outputs": [
    {
     "data": {
      "text/plain": [
       "Text(0,0.5,'Mean Error')"
      ]
     },
     "execution_count": 78,
     "metadata": {},
     "output_type": "execute_result"
    },
    {
     "data": {
      "image/png": "[encoded data removed]",
      "text/plain": [
       "<Figure size 864x432 with 1 Axes>"
      ]
     },
     "metadata": {},
     "output_type": "display_data"
    }
   ],
   "source": [
    "plt.figure(figsize=(12, 6))  \n",
    "plt.plot(range(1, 40), error, color='red', linestyle='dashed', marker='o',  \n",
    "         markerfacecolor='blue', markersize=10)\n",
    "plt.title('Error Rate K Value')  \n",
    "plt.xlabel('K Value')  \n",
    "plt.ylabel('Mean Error') "
   ]
  },
  {
   "cell_type": "code",
   "execution_count": null,
   "metadata": {},
   "outputs": [],
   "source": []
  },
  {
   "cell_type": "code",
   "execution_count": null,
   "metadata": {},
   "outputs": [],
   "source": [
    "\n",
    "\n"
   ]
  },
  {
   "cell_type": "code",
   "execution_count": null,
   "metadata": {},
   "outputs": [],
   "source": []
  }
 ],
 "metadata": {
  "kernelspec": {
   "display_name": "Python 3",
   "language": "python",
   "name": "python3"
  },
  "language_info": {
   "codemirror_mode": {
    "name": "ipython",
    "version": 3
   },
   "file_extension": ".py",
   "mimetype": "text/x-python",
   "name": "python",
   "nbconvert_exporter": "python",
   "pygments_lexer": "ipython3",
   "version": "3.6.5"
  }
 },
 "nbformat": 4,
 "nbformat_minor": 2
}
