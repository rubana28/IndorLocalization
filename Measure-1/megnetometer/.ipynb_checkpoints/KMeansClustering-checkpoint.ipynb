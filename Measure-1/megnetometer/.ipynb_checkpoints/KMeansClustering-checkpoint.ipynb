{
 "cells": [
  {
   "cell_type": "markdown",
   "metadata": {},
   "source": [
    "# smart phone"
   ]
  },
  {
   "cell_type": "code",
   "execution_count": 1,
   "metadata": {},
   "outputs": [],
   "source": [
    "from sklearn import datasets\n",
    "import matplotlib.pyplot as plt\n",
    "import pandas as pd\n",
    "from sklearn.cluster import KMeans"
   ]
  },
  {
   "cell_type": "code",
   "execution_count": 4,
   "metadata": {},
   "outputs": [
    {
     "data": {
      "text/html": [
       "<div>\n",
       "<style scoped>\n",
       "    .dataframe tbody tr th:only-of-type {\n",
       "        vertical-align: middle;\n",
       "    }\n",
       "\n",
       "    .dataframe tbody tr th {\n",
       "        vertical-align: top;\n",
       "    }\n",
       "\n",
       "    .dataframe thead th {\n",
       "        text-align: right;\n",
       "    }\n",
       "</style>\n",
       "<table border=\"1\" class=\"dataframe\">\n",
       "  <thead>\n",
       "    <tr style=\"text-align: right;\">\n",
       "      <th></th>\n",
       "      <th>timestamp</th>\n",
       "      <th>AccelerationX</th>\n",
       "      <th>AccelerationY</th>\n",
       "      <th>AccelerationZ</th>\n",
       "      <th>MagneticFieldX</th>\n",
       "      <th>MagneticFieldY</th>\n",
       "      <th>MagneticFieldZ</th>\n",
       "      <th>Z_AxisAgle(Azimuth)</th>\n",
       "      <th>X_AxisAngle(Pitch)</th>\n",
       "      <th>Y_AxisAngle(Roll)</th>\n",
       "      <th>GyroX</th>\n",
       "      <th>GyroY</th>\n",
       "      <th>GyroZ</th>\n",
       "    </tr>\n",
       "  </thead>\n",
       "  <tbody>\n",
       "    <tr>\n",
       "      <th>0</th>\n",
       "      <td>1.422630e+12</td>\n",
       "      <td>-3.577</td>\n",
       "      <td>2.104</td>\n",
       "      <td>9.078</td>\n",
       "      <td>-5.4</td>\n",
       "      <td>-17.9</td>\n",
       "      <td>-28.2</td>\n",
       "      <td>126.404</td>\n",
       "      <td>-12.169</td>\n",
       "      <td>-21.001</td>\n",
       "      <td>0</td>\n",
       "      <td>0</td>\n",
       "      <td>0</td>\n",
       "    </tr>\n",
       "    <tr>\n",
       "      <th>1</th>\n",
       "      <td>1.422630e+12</td>\n",
       "      <td>-3.424</td>\n",
       "      <td>2.927</td>\n",
       "      <td>9.374</td>\n",
       "      <td>-4.3</td>\n",
       "      <td>-21.9</td>\n",
       "      <td>-26.9</td>\n",
       "      <td>134.694</td>\n",
       "      <td>-11.322</td>\n",
       "      <td>-25.898</td>\n",
       "      <td>0</td>\n",
       "      <td>0</td>\n",
       "      <td>0</td>\n",
       "    </tr>\n",
       "    <tr>\n",
       "      <th>2</th>\n",
       "      <td>1.422630e+12</td>\n",
       "      <td>-2.505</td>\n",
       "      <td>2.908</td>\n",
       "      <td>8.867</td>\n",
       "      <td>-0.7</td>\n",
       "      <td>-24.4</td>\n",
       "      <td>-26.5</td>\n",
       "      <td>150.906</td>\n",
       "      <td>-17.523</td>\n",
       "      <td>-15.017</td>\n",
       "      <td>0</td>\n",
       "      <td>0</td>\n",
       "      <td>0</td>\n",
       "    </tr>\n",
       "    <tr>\n",
       "      <th>3</th>\n",
       "      <td>1.422630e+12</td>\n",
       "      <td>-5.473</td>\n",
       "      <td>1.472</td>\n",
       "      <td>9.394</td>\n",
       "      <td>0.3</td>\n",
       "      <td>-25.7</td>\n",
       "      <td>-26.9</td>\n",
       "      <td>138.022</td>\n",
       "      <td>-21.068</td>\n",
       "      <td>-23.941</td>\n",
       "      <td>0</td>\n",
       "      <td>0</td>\n",
       "      <td>0</td>\n",
       "    </tr>\n",
       "    <tr>\n",
       "      <th>4</th>\n",
       "      <td>1.422630e+12</td>\n",
       "      <td>-3.414</td>\n",
       "      <td>2.018</td>\n",
       "      <td>8.187</td>\n",
       "      <td>3.7</td>\n",
       "      <td>-29.6</td>\n",
       "      <td>-23.9</td>\n",
       "      <td>163.519</td>\n",
       "      <td>-12.814</td>\n",
       "      <td>-22.046</td>\n",
       "      <td>0</td>\n",
       "      <td>0</td>\n",
       "      <td>0</td>\n",
       "    </tr>\n",
       "  </tbody>\n",
       "</table>\n",
       "</div>"
      ],
      "text/plain": [
       "      timestamp  AccelerationX  AccelerationY  AccelerationZ  MagneticFieldX  \\\n",
       "0  1.422630e+12         -3.577          2.104          9.078            -5.4   \n",
       "1  1.422630e+12         -3.424          2.927          9.374            -4.3   \n",
       "2  1.422630e+12         -2.505          2.908          8.867            -0.7   \n",
       "3  1.422630e+12         -5.473          1.472          9.394             0.3   \n",
       "4  1.422630e+12         -3.414          2.018          8.187             3.7   \n",
       "\n",
       "   MagneticFieldY  MagneticFieldZ  Z_AxisAgle(Azimuth)  X_AxisAngle(Pitch)  \\\n",
       "0           -17.9           -28.2              126.404             -12.169   \n",
       "1           -21.9           -26.9              134.694             -11.322   \n",
       "2           -24.4           -26.5              150.906             -17.523   \n",
       "3           -25.7           -26.9              138.022             -21.068   \n",
       "4           -29.6           -23.9              163.519             -12.814   \n",
       "\n",
       "   Y_AxisAngle(Roll)  GyroX  GyroY  GyroZ  \n",
       "0            -21.001      0      0      0  \n",
       "1            -25.898      0      0      0  \n",
       "2            -15.017      0      0      0  \n",
       "3            -23.941      0      0      0  \n",
       "4            -22.046      0      0      0  "
      ]
     },
     "execution_count": 4,
     "metadata": {},
     "output_type": "execute_result"
    }
   ],
   "source": [
    "names = ['timestamp', 'AccelerationX', 'AccelerationY', 'AccelerationZ', 'MagneticFieldX', 'MagneticFieldY', 'MagneticFieldZ', 'Z_AxisAgle(Azimuth)', 'X_AxisAngle(Pitch)', 'Y_AxisAngle(Roll)','GyroX', 'GyroY', 'GyroZ']\n",
    "data = pd.read_csv('measure1_smartphone.csv', names=names) \n",
    "data.head()"
   ]
  },
  {
   "cell_type": "code",
   "execution_count": 8,
   "metadata": {},
   "outputs": [],
   "source": [
    "x = data.iloc[:, [0,1, 2, 3, 4,5,6,7,8,9,10,11,12]].values"
   ]
  },
  {
   "cell_type": "code",
   "execution_count": 18,
   "metadata": {},
   "outputs": [
    {
     "data": {
      "image/png": "[encoded data removed]",
      "text/plain": [
       "<Figure size 432x288 with 1 Axes>"
      ]
     },
     "metadata": {},
     "output_type": "display_data"
    }
   ],
   "source": [
    "#Finding the optimum number of clusters for k-means classification\n",
    "from sklearn.cluster import KMeans\n",
    "wcss = []\n",
    "\n",
    "for i in range(1, 11):\n",
    "    kmeans = KMeans(n_clusters = i, init = 'k-means++', max_iter = 600, n_init = 10, random_state = 0)\n",
    "    kmeans.fit(x)\n",
    "    wcss.append(kmeans.inertia_)\n",
    "    \n",
    "#Plotting the results onto a line graph, allowing us to observe 'The elbow'\n",
    "plt.plot(range(1, 11), wcss)\n",
    "plt.title('The elbow method')\n",
    "plt.xlabel('Number of clusters')\n",
    "plt.ylabel('WCSS') #within cluster sum of squares\n",
    "plt.show()"
   ]
  },
  {
   "cell_type": "code",
   "execution_count": 19,
   "metadata": {},
   "outputs": [],
   "source": [
    "#Applying kmeans to the dataset / Creating the kmeans classifier\n",
    "kmeans = KMeans(n_clusters = 6, init = 'k-means++', max_iter = 600, n_init = 10, random_state = 0)\n",
    "y_kmeans = kmeans.fit_predict(x)"
   ]
  },
  {
   "cell_type": "code",
   "execution_count": 20,
   "metadata": {},
   "outputs": [
    {
     "data": {
      "text/plain": [
       "<matplotlib.legend.Legend at 0x294a533b828>"
      ]
     },
     "execution_count": 20,
     "metadata": {},
     "output_type": "execute_result"
    },
    {
     "data": {
      "image/png": "[encoded data removed]",
      "text/plain": [
       "<Figure size 432x288 with 1 Axes>"
      ]
     },
     "metadata": {},
     "output_type": "display_data"
    }
   ],
   "source": [
    "#Visualising the clusters\n",
    "#'Corridor1', 'Hall', 'Corridor2', 'Corridor3', 'Office2'\n",
    "plt.scatter(x[y_kmeans == 0, 0], x[y_kmeans == 0, 1], s = 100, c = 'red', label = 'Office1')\n",
    "plt.scatter(x[y_kmeans == 1, 0], x[y_kmeans == 1, 1], s = 100, c = 'blue', label = 'Corridor1')\n",
    "plt.scatter(x[y_kmeans == 2, 0], x[y_kmeans == 2, 1], s = 100, c = 'green', label = 'Hall')\n",
    "plt.scatter(x[y_kmeans == 3, 0], x[y_kmeans == 3, 1], s = 100, c = 'orange', label = 'Corridor2')\n",
    "plt.scatter(x[y_kmeans == 4, 0], x[y_kmeans == 4, 1], s = 100, c = 'black', label = 'Corridor3')\n",
    "plt.scatter(x[y_kmeans == 5, 0], x[y_kmeans == 5, 1], s = 100, c = 'purple', label = 'Office2')\n",
    "\n",
    "#Plotting the centroids of the clusters\n",
    "plt.scatter(kmeans.cluster_centers_[:, 0], kmeans.cluster_centers_[:,1], s = 100, c = 'yellow', label = 'Centroids')\n",
    "\n",
    "plt.legend()"
   ]
  },
  {
   "cell_type": "markdown",
   "metadata": {},
   "source": [
    "# "
   ]
  }
 ],
 "metadata": {
  "kernelspec": {
   "display_name": "Python 3",
   "language": "python",
   "name": "python3"
  },
  "language_info": {
   "codemirror_mode": {
    "name": "ipython",
    "version": 3
   },
   "file_extension": ".py",
   "mimetype": "text/x-python",
   "name": "python",
   "nbconvert_exporter": "python",
   "pygments_lexer": "ipython3",
   "version": "3.6.5"
  }
 },
 "nbformat": 4,
 "nbformat_minor": 2
}
